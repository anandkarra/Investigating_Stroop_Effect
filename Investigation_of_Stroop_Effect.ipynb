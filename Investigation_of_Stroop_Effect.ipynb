{
 "cells": [
  {
   "cell_type": "markdown",
   "metadata": {},
   "source": [
    "# **Investigation of Stroop Effect**\n",
    "##### An Inferential Statistics Analysis\n",
    "<br>\n",
    "### **Inferential Statistics** | Udacity **Data Analyst Nanodegree**\n",
    "\n",
    "<br>\n",
    "<h3 style=\"text-align:left;\">Karra Anand</h3>\n",
    "<h3 style=\"text-align:left;\">15<sup>th</sup> March 2018</h3>"
   ]
  },
  {
   "cell_type": "markdown",
   "metadata": {},
   "source": [
    "___\n",
    "___"
   ]
  },
  {
   "cell_type": "markdown",
   "metadata": {},
   "source": [
    "<h2><b><u>Table of Contents</u></b></h2>\n",
    "<ul>\n",
    "<li><a href=\"#intro\"><b>Introduction</b></a></li>\n",
    "<li><a href=\"#wrangling\"><b>Defining the variables</b></a></li>\n",
    "</ul>"
   ]
  },
  {
   "cell_type": "markdown",
   "metadata": {},
   "source": [
    "___\n",
    "___"
   ]
  },
  {
   "cell_type": "markdown",
   "metadata": {},
   "source": [
    "<a id='intro'></a>\n",
    "<h2><b><u>Introduction</u></b></h2>\n",
    "<br>\n",
    "This project will investigate a classical phenomenon from experimental psychology called [Stroop Effect](https://en.wikipedia.org/wiki/Stroop_effect). We will create a hypothesis regarding the outcome of the task. Then, look at some data collected from others who have performed the same task and will compute some statistics describing the results. Finally, we will interpret the results in terms of our hypotheses.\n",
    "<br>\n",
    "<br>\n",
    "<h3 style=\"text-align:left;\">Background Information</h3>\n",
    "In a Stroop task, participants are presented with a list of words, with each word displayed in a color of ink. The participant’s task is to say out loud the color of the ink in which the word is printed. The task has two conditions: a congruent words condition, and an incongruent words condition. In the congruent words condition, the words being displayed are color words whose names match the colors in which they are printed. In the incongruent words condition, the words displayed are color words whose names do not match the colors in which they are printed. In each case, we measure the time it takes to name the ink colors in equally-sized lists. Each participant will go through and record a time from each condition. <br>\n",
    "You can check out the task for yourself [here](https://faculty.washington.edu/chudler/java/ready.html).\n",
    "<br>"
   ]
  },
  {
   "cell_type": "markdown",
   "metadata": {},
   "source": [
    "___\n",
    "___"
   ]
  },
  {
   "cell_type": "markdown",
   "metadata": {},
   "source": [
    "<a id='defining-varaibles-and-hypothesis-and-type-of-test'></a>\n",
    "<h2><b><u>Defining Variables, Hypothesis and Type of test</u></b></h2>\n",
    "<br>\n",
    "<h3 style=\"text-align:left;\">Defining variables</h3>\n",
    "Before we define our hypothesis, we first need to define our variables. Specifically, in this case our **dependant** and **independant** variables.\n",
    "<br>\n",
    "<br>\n",
    "**Independent variable = Words conditions** (Congruent or Incongruent)\n",
    "<br>\n",
    "**Dependent variable = Average time taken to complete the task** (in seconds)\n",
    "<br>\n",
    "<br>\n",
    "<h3 style=\"text-align:left;\">Mathematical notation</h3>\n",
    "Let, the **average** and **standard** deviation of time taken to complete the task in the **congruent** words condition be <b>&mu;<sub>cong</sub></b> and <b>&sigma;<sub>cong</sub></b> respectively.\n",
    "<br>\n",
    "and, the **average** and **standard deviation** of time taken to complete the task in the **incongruent** words condition be <b>&mu;<sub>incong</sub></b> and <b>&sigma;<sub>incong</sub></b> respectively.\n",
    "<br>\n",
    "<br>\n",
    "<h3 style=\"text-align:left;\">Defining hypothesis</h3>\n",
    "Next, we define the null and alternate hypothesis for this task as follows:\n",
    "<br>\n",
    "<br>\n",
    "**Null Hypothesis (H<sub>0</sub>)**&nbsp;&nbsp;&nbsp;&nbsp;&nbsp;&nbsp;&nbsp;&nbsp;&nbsp;&nbsp;: &mu;<sub>cong</sub> &cong; &mu;<sub>incong</sub> \n",
    "<br>\n",
    "**Alternate Hypothesis (H<sub>1</sub>)**&nbsp;: &mu;<sub>cong</sub> &ne; &mu;<sub>incong</sub>\n",
    "<br>\n",
    "<br>\n",
    "<h3 style=\"text-align:left;\">Type of test</h3>\n",
    "We want to investigate the effect of the words condition on the average time taken to complete the task. From measuring the time taken to complete the task under both the words conditions we can see that it taken more time on average for the incongruent words conditions. Hence, we will be testing if this change is significant enough to draw an inference between the words condition and average time taken to complete the task. For this, we use a **one-tailed test** with an **&alpha;-level** of **0.05**.\n",
    "<br>\n",
    "Hence, **&alpha; = 0.05**"
   ]
  },
  {
   "cell_type": "markdown",
   "metadata": {},
   "source": [
    "___\n",
    "___"
   ]
  },
  {
   "cell_type": "markdown",
   "metadata": {},
   "source": [
    "<a id='exploring-the-dataset'></a>\n",
    "<h2><b><u>Exploring the dataset</u></b></h2>\n",
    "<br>\n",
    "\n",
    "A CSV file containing the times taken to complete the test for multiple iterations for both the congruent and incongruent words condition is present in the project directory (if not, make necessary modifications to the file path in the following code). The data in the CSV file is then loaded into a Pandas DataFrame.\n",
    "<br>\n",
    "<br>\n",
    "(We use a Pandas DataFrame as it has a number of functions built-in to compute various statistical measures)"
   ]
  },
  {
   "cell_type": "code",
   "execution_count": 1,
   "metadata": {
    "collapsed": true
   },
   "outputs": [],
   "source": [
    "# Importing the necessary modules\n",
    "import csv\n",
    "import pandas as pd\n",
    "import numpy as np\n",
    "import matplotlib.pyplot as plt\n",
    "%matplotlib inline"
   ]
  },
  {
   "cell_type": "code",
   "execution_count": 2,
   "metadata": {},
   "outputs": [
    {
     "name": "stdout",
     "output_type": "stream",
     "text": [
      "[['12.079', '19.278'], ['16.791', '18.741'], ['9.564', '21.214'], ['8.630', '15.687'], ['14.669', '22.803'], ['12.238', '20.878'], ['14.692', '24.572'], ['8.987', '17.394'], ['9.401', '20.762'], ['14.480', '26.282'], ['22.328', '24.524'], ['15.298', '18.644'], ['15.073', '17.510'], ['16.929', '20.330'], ['18.200', '35.255'], ['12.130', '22.158'], ['18.495', '25.139'], ['10.639', '20.429'], ['11.344', '17.425'], ['12.369', '34.288'], ['12.944', '23.894'], ['14.233', '17.960'], ['19.710', '22.058'], ['16.004', '21.157']]\n"
     ]
    }
   ],
   "source": [
    "STROOP_DATA = \"stroopdata.csv\" \n",
    "\n",
    "csv_file = []\n",
    "with open(STROOP_DATA, 'r') as csvfile:\n",
    "    reader = csv.reader(csvfile)\n",
    "    next(reader)\n",
    "    for row in reader:\n",
    "        csv_file.append(row)\n",
    "print (csv_file)"
   ]
  },
  {
   "cell_type": "markdown",
   "metadata": {},
   "source": [
    "We can see that our CSV file has been read properly.\n",
    "<br>\n",
    "<br>\n",
    "Next, we store this data in a Pandas DataFrame."
   ]
  },
  {
   "cell_type": "code",
   "execution_count": 3,
   "metadata": {},
   "outputs": [
    {
     "name": "stdout",
     "output_type": "stream",
     "text": [
      "    congruent  incongruent\n",
      "0      12.079       19.278\n",
      "1      16.791       18.741\n",
      "2       9.564       21.214\n",
      "3       8.630       15.687\n",
      "4      14.669       22.803\n",
      "5      12.238       20.878\n",
      "6      14.692       24.572\n",
      "7       8.987       17.394\n",
      "8       9.401       20.762\n",
      "9      14.480       26.282\n",
      "10     22.328       24.524\n",
      "11     15.298       18.644\n",
      "12     15.073       17.510\n",
      "13     16.929       20.330\n",
      "14     18.200       35.255\n",
      "15     12.130       22.158\n",
      "16     18.495       25.139\n",
      "17     10.639       20.429\n",
      "18     11.344       17.425\n",
      "19     12.369       34.288\n",
      "20     12.944       23.894\n",
      "21     14.233       17.960\n",
      "22     19.710       22.058\n",
      "23     16.004       21.157\n"
     ]
    },
    {
     "name": "stderr",
     "output_type": "stream",
     "text": [
      "/home/marvin/anaconda3/lib/python3.6/site-packages/ipykernel_launcher.py:3: FutureWarning: convert_objects is deprecated.  Use the data-type specific converters pd.to_datetime, pd.to_timedelta and pd.to_numeric.\n",
      "  This is separate from the ipykernel package so we can avoid doing imports until\n"
     ]
    }
   ],
   "source": [
    "stroop_data_df = pd.DataFrame((csv_file))\n",
    "stroop_data_df.columns = ['congruent','incongruent']\n",
    "stroop_data_df = stroop_data_df.convert_objects(convert_numeric=True)\n",
    "print (stroop_data_df)"
   ]
  },
  {
   "cell_type": "markdown",
   "metadata": {
    "collapsed": true
   },
   "source": [
    "<br>\n",
    "The **mean**, **median**, **variance** and **standard deviation** for the **congruent words condition** is given below:"
   ]
  },
  {
   "cell_type": "code",
   "execution_count": 4,
   "metadata": {},
   "outputs": [
    {
     "name": "stdout",
     "output_type": "stream",
     "text": [
      "Mean               =  14.051\n",
      "Median             =  14.357\n",
      "Variance           =  12.669\n",
      "Standard deviation =  3.559\n"
     ]
    }
   ],
   "source": [
    "print (\"Mean               = \",round(stroop_data_df[\"congruent\"].mean(),3))\n",
    "print (\"Median             = \",round(stroop_data_df[\"congruent\"].median(),3))\n",
    "print (\"Variance           = \",round(stroop_data_df[\"congruent\"].var(),3))\n",
    "print (\"Standard deviation = \",round(stroop_data_df[\"congruent\"].std(),3))"
   ]
  },
  {
   "cell_type": "markdown",
   "metadata": {
    "collapsed": true
   },
   "source": [
    "<br>\n",
    "The **mean**, **median**, **variance** and **standard deviation** for the **incongruent words condition** is given below:"
   ]
  },
  {
   "cell_type": "code",
   "execution_count": 5,
   "metadata": {},
   "outputs": [
    {
     "name": "stdout",
     "output_type": "stream",
     "text": [
      "Mean               =  22.016\n",
      "Median             =  21.017\n",
      "Variance           =  23.012\n",
      "Standard deviation =  4.797\n"
     ]
    }
   ],
   "source": [
    "print (\"Mean               = \",round(stroop_data_df[\"incongruent\"].mean(),3))\n",
    "print (\"Median             = \",round(stroop_data_df[\"incongruent\"].median(),3))\n",
    "print (\"Variance           = \",round(stroop_data_df[\"incongruent\"].var(),3))\n",
    "print (\"Standard deviation = \",round(stroop_data_df[\"incongruent\"].std(),3))"
   ]
  },
  {
   "cell_type": "markdown",
   "metadata": {},
   "source": [
    "From the above results we observe that:\n",
    "<br>\n",
    "<br>\n",
    "&mu;<sub>cong</sub> = 14.051 <br>\n",
    "&sigma;<sub>cong</sub> = 3.559\n",
    "<br>\n",
    "<br>\n",
    "&mu;<sub>incong</sub> = 22.016 <br>\n",
    "&sigma;<sub>incong</sub> = 4.797"
   ]
  },
  {
   "cell_type": "markdown",
   "metadata": {},
   "source": [
    "<br>\n",
    "We can observe these statistical measures in the following plots:\n",
    "<br>\n",
    "<br>"
   ]
  },
  {
   "cell_type": "code",
   "execution_count": 6,
   "metadata": {
    "scrolled": true
   },
   "outputs": [
    {
     "data": {
      "image/png": "[encoded data removed]",
      "text/plain": [
       "<matplotlib.figure.Figure at 0x7ff379db34e0>"
      ]
     },
     "metadata": {},
     "output_type": "display_data"
    }
   ],
   "source": [
    "n =24\n",
    "width = 0.35       # Width of the bars\n",
    "\n",
    "ind = np.arange(n)  # x locations for the groups\n",
    "width = 0.35       # Width of the bars\n",
    "\n",
    "fig, ax = plt.subplots()\n",
    "\n",
    "rects1 = ax.bar(ind, stroop_data_df[\"congruent\"], width, color='g',label=\"Congruent words condition\") # Congruent word condition subplo\n",
    "rects2 = ax.bar(ind + width, stroop_data_df[\"incongruent\"], width, color='r',label=\"Incongruent words condition\") # Incongruent word condition subplot\n",
    "ax.axhline(stroop_data_df[\"congruent\"].mean(),label=\"Mean time taken in Congruent words condition\",color=\"c\") # Mean for congruent condition\n",
    "ax.axhline(stroop_data_df[\"incongruent\"].mean(),label=\"Mean time taken in Incongruent words condition\",color=\"y\") # Mean for incongruent condition\n",
    "\n",
    "ax.set_xlabel(\"Task iteration\")\n",
    "ax.set_ylabel(\"Time taken to complete task (in sec)\")\n",
    "plt.xticks(np.arange(0, 24, 1))\n",
    "fig.set_size_inches(14,10) # Size of the plot\n",
    "plt.legend()\n",
    "\n",
    "plt.show()"
   ]
  },
  {
   "cell_type": "markdown",
   "metadata": {},
   "source": [
    "From the above bar plot we can clearly notice that, it generally takes more time to complete the task in the incongruent words condition compared to the congruent words condition.\n",
    "<br>\n",
    "<br>\n",
    "Furthermore, the average times for the incongruent words condition is also higher than that of the congruent words condition."
   ]
  },
  {
   "cell_type": "markdown",
   "metadata": {},
   "source": [
    "<br>\n",
    "As defined previously, <br>\n",
    "**Confidence level**, &nbsp;&nbsp;&nbsp;&nbsp;&nbsp;&nbsp;&nbsp;&nbsp;**&alpha;&nbsp;&nbsp;&nbsp;&nbsp; = 0.05** <br>\n",
    "**Critical statistic value, z<sub>CR</sub> = 1.6449**"
   ]
  },
  {
   "cell_type": "markdown",
   "metadata": {},
   "source": [
    "___\n",
    "___"
   ]
  },
  {
   "cell_type": "markdown",
   "metadata": {},
   "source": [
    "<a id='statistical-test'></a>\n",
    "<h2><b><u>Statistical test</u></b></h2>\n",
    "<br>\n",
    "\n",
    "The z-value for the incongruent words condition is given by,\n",
    "<br>\n",
    "<br>"
   ]
  },
  {
   "cell_type": "code",
   "execution_count": 2,
   "metadata": {},
   "outputs": [
    {
     "data": {
      "text/latex": [
       "\\begin{align*}\n",
       "z = {\\mu_{incong} - \\mu_{cong} \\over \\sigma_{cong}/\\sqrt n} \\\\\n",
       "\\\\\n",
       "Substituting \\ the\\ values, \\\\\n",
       "\\implies z = {22.016 - 14.051 \\over 3.559 /\\sqrt24} \\\\\n",
       "z = 10.964 \\\\\n",
       "z_{CR} = 1.6449 \\\\\n",
       "z > z_{CR} \\\\\n",
       "\\end{align*}"
      ],
      "text/plain": [
       "<IPython.core.display.Latex object>"
      ]
     },
     "metadata": {},
     "output_type": "display_data"
    }
   ],
   "source": [
    "%%latex\n",
    "\\begin{align*}\n",
    "z = {\\mu_{incong} - \\mu_{cong} \\over \\sigma_{cong}/\\sqrt n} \\\\\n",
    "\\\\\n",
    "Substituting \\ the\\ values, \\\\\n",
    "\\implies z = {22.016 - 14.051 \\over 3.559 /\\sqrt24} \\\\\n",
    "z = 10.964 \\\\\n",
    "z_{CR} = 1.6449 \\\\\n",
    "z > z_{CR} \\\\\n",
    "\\end{align*}"
   ]
  },
  {
   "cell_type": "markdown",
   "metadata": {},
   "source": [
    "Hence, z lies on the critical region.\n",
    "<br>\n",
    "<br>\n",
    "**Hence, the null hypothesis (H<sub>0</sub>) is rejected.**\n",
    "<br>\n",
    "<br>\n",
    "Hence, our alternate hypothesis, H<sub>1</sub> i.e. &mu;<sub>cong</sub> &ne; &mu;<sub>incong</sub> is true."
   ]
  },
  {
   "cell_type": "markdown",
   "metadata": {},
   "source": [
    "___\n",
    "___"
   ]
  },
  {
   "cell_type": "markdown",
   "metadata": {},
   "source": [
    "<a id='conclusion'></a>\n",
    "<h2><b><u>Conclusion</u></b></h2>\n",
    "<br>"
   ]
  }
 ],
 "metadata": {
  "kernelspec": {
   "display_name": "Python 3",
   "language": "python",
   "name": "python3"
  },
  "language_info": {
   "codemirror_mode": {
    "name": "ipython",
    "version": 3
   },
   "file_extension": ".py",
   "mimetype": "text/x-python",
   "name": "python",
   "nbconvert_exporter": "python",
   "pygments_lexer": "ipython3",
   "version": "3.6.3"
  }
 },
 "nbformat": 4,
 "nbformat_minor": 2
}
